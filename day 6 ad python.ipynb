{
 "cells": [
  {
   "cell_type": "code",
   "execution_count": null,
   "id": "198e8e9b-b5fb-4b2d-9181-17f6b3d495e5",
   "metadata": {},
   "outputs": [],
   "source": [
    "#app reviews sentiment analysis\n",
    "# app rewiews sentiment analysis means evaluating and understanding the sentiment sexpressed in user rewivews of mobile applications\n"
   ]
  },
  {
   "cell_type": "code",
   "execution_count": 1,
   "id": "3294fcc0-5e1e-479d-9a2c-8d521cc7e0cc",
   "metadata": {},
   "outputs": [],
   "source": [
    "import numpy as np\n",
    "import pandas as pd"
   ]
  },
  {
   "cell_type": "code",
   "execution_count": 2,
   "id": "c831dec9-5307-49b7-839e-dadacea0cc05",
   "metadata": {},
   "outputs": [],
   "source": [
    "df = pd.read_csv(\"C:\\\\Users\\\\DELL\\\\Desktop\\\\xyza\\\\linkedin-reviews.csv\")"
   ]
  },
  {
   "cell_type": "code",
   "execution_count": 3,
   "id": "e6e8b465-f4a6-4a72-ad0c-01668929609e",
   "metadata": {},
   "outputs": [
    {
     "data": {
      "text/html": [
       "<div>\n",
       "<style scoped>\n",
       "    .dataframe tbody tr th:only-of-type {\n",
       "        vertical-align: middle;\n",
       "    }\n",
       "\n",
       "    .dataframe tbody tr th {\n",
       "        vertical-align: top;\n",
       "    }\n",
       "\n",
       "    .dataframe thead th {\n",
       "        text-align: right;\n",
       "    }\n",
       "</style>\n",
       "<table border=\"1\" class=\"dataframe\">\n",
       "  <thead>\n",
       "    <tr style=\"text-align: right;\">\n",
       "      <th></th>\n",
       "      <th>Review</th>\n",
       "      <th>Rating</th>\n",
       "    </tr>\n",
       "  </thead>\n",
       "  <tbody>\n",
       "    <tr>\n",
       "      <th>0</th>\n",
       "      <td>Does absolutely nothing for a LinkedIn beginne...</td>\n",
       "      <td>1</td>\n",
       "    </tr>\n",
       "    <tr>\n",
       "      <th>1</th>\n",
       "      <td>Force close(galaxy tab)</td>\n",
       "      <td>1</td>\n",
       "    </tr>\n",
       "    <tr>\n",
       "      <th>2</th>\n",
       "      <td>Slow and it tries to upload your contacts with...</td>\n",
       "      <td>1</td>\n",
       "    </tr>\n",
       "    <tr>\n",
       "      <th>3</th>\n",
       "      <td>Add ability to customize the profile and move ...</td>\n",
       "      <td>4</td>\n",
       "    </tr>\n",
       "    <tr>\n",
       "      <th>4</th>\n",
       "      <td>Good app, but it's a pain that it's not possib...</td>\n",
       "      <td>4</td>\n",
       "    </tr>\n",
       "  </tbody>\n",
       "</table>\n",
       "</div>"
      ],
      "text/plain": [
       "                                              Review  Rating\n",
       "0  Does absolutely nothing for a LinkedIn beginne...       1\n",
       "1                            Force close(galaxy tab)       1\n",
       "2  Slow and it tries to upload your contacts with...       1\n",
       "3  Add ability to customize the profile and move ...       4\n",
       "4  Good app, but it's a pain that it's not possib...       4"
      ]
     },
     "execution_count": 3,
     "metadata": {},
     "output_type": "execute_result"
    }
   ],
   "source": [
    "df.head()"
   ]
  },
  {
   "cell_type": "code",
   "execution_count": 4,
   "id": "9741fb5d-3850-4765-bff8-2d08f78afaac",
   "metadata": {},
   "outputs": [],
   "source": [
    "import matplotlib.pyplot as plt\n",
    "import seaborn as sns"
   ]
  },
  {
   "cell_type": "code",
   "execution_count": 5,
   "id": "6d0fd74d-a09c-40d1-82e0-4bb96788f114",
   "metadata": {},
   "outputs": [
    {
     "name": "stdout",
     "output_type": "stream",
     "text": [
      "<class 'pandas.core.frame.DataFrame'>\n",
      "RangeIndex: 702 entries, 0 to 701\n",
      "Data columns (total 2 columns):\n",
      " #   Column  Non-Null Count  Dtype \n",
      "---  ------  --------------  ----- \n",
      " 0   Review  702 non-null    object\n",
      " 1   Rating  702 non-null    int64 \n",
      "dtypes: int64(1), object(1)\n",
      "memory usage: 11.1+ KB\n"
     ]
    }
   ],
   "source": [
    "df.info()"
   ]
  },
  {
   "cell_type": "code",
   "execution_count": 6,
   "id": "287352e9-40af-4658-92f4-1e49ede8b079",
   "metadata": {},
   "outputs": [],
   "source": [
    "#Exploratory Data Analysis\n",
    "#we will start by analyzing the distributions of rating.\n",
    "#It will provide insight into the overall sentiment of the reviews. \n",
    "#Then we can explore further, such as analyzing the length of reviews , \n",
    "#and possibly derive insights from the text of the reviews.\n",
    "\n",
    "#Plotting the Distribution of Ratings\n"
   ]
  },
  {
   "cell_type": "code",
   "execution_count": 10,
   "id": "5254d982-e95b-4313-ac84-e214da8a590c",
   "metadata": {},
   "outputs": [
    {
     "data": {
      "image/png": "[encoded data removed]",
      "text/plain": [
       "<Figure size 900x500 with 1 Axes>"
      ]
     },
     "metadata": {},
     "output_type": "display_data"
    }
   ],
   "source": [
    "sns.set(style = 'whitegrid')\n",
    "plt.figure(figsize = (9,5))\n",
    "sns.countplot(data = df , x = 'Rating')\n",
    "plt.title('Distribution of Ratings')\n",
    "plt.xlabel('Rating')\n",
    "plt.ylabel('count')\n",
    "plt.show()"
   ]
  },
  {
   "cell_type": "code",
   "execution_count": null,
   "id": "fe6d718c-1ca0-4131-a638-4cce999edb23",
   "metadata": {},
   "outputs": [],
   "source": [
    "### AddiTng Sentiment Labels in the Data\n"
   ]
  },
  {
   "cell_type": "code",
   "execution_count": null,
   "id": "19e993ee-e6f8-4c0c-b637-567a40db14a9",
   "metadata": {},
   "outputs": [],
   "source": [
    "# we will use Textblob library.Textblob provides a polarity scores raning from -1(very negative) to 1(very positive) for a given text .we can use this score to classify each review's sentiment as positive , negative or neutral.\n"
   ]
  },
  {
   "cell_type": "code",
   "execution_count": 12,
   "id": "b42a0f63-c810-477e-bf40-41a08f1f818a",
   "metadata": {},
   "outputs": [
    {
     "name": "stdout",
     "output_type": "stream",
     "text": [
      "Collecting textblob\n",
      "  Downloading textblob-0.18.0.post0-py3-none-any.whl.metadata (4.5 kB)\n",
      "Requirement already satisfied: nltk>=3.8 in c:\\users\\dell\\anaconda3\\lib\\site-packages (from textblob) (3.8.1)\n",
      "Requirement already satisfied: click in c:\\users\\dell\\anaconda3\\lib\\site-packages (from nltk>=3.8->textblob) (8.1.7)\n",
      "Requirement already satisfied: joblib in c:\\users\\dell\\anaconda3\\lib\\site-packages (from nltk>=3.8->textblob) (1.2.0)\n",
      "Requirement already satisfied: regex>=2021.8.3 in c:\\users\\dell\\anaconda3\\lib\\site-packages (from nltk>=3.8->textblob) (2023.10.3)\n",
      "Requirement already satisfied: tqdm in c:\\users\\dell\\anaconda3\\lib\\site-packages (from nltk>=3.8->textblob) (4.65.0)\n",
      "Requirement already satisfied: colorama in c:\\users\\dell\\anaconda3\\lib\\site-packages (from click->nltk>=3.8->textblob) (0.4.6)\n",
      "Downloading textblob-0.18.0.post0-py3-none-any.whl (626 kB)\n",
      "   ---------------------------------------- 0.0/626.3 kB ? eta -:--:--\n",
      "   ---------------------------------------- 0.0/626.3 kB ? eta -:--:--\n",
      "    --------------------------------------- 10.2/626.3 kB ? eta -:--:--\n",
      "   -- ------------------------------------ 41.0/626.3 kB 393.8 kB/s eta 0:00:02\n",
      "   ----------------- ---------------------- 276.5/626.3 kB 2.1 MB/s eta 0:00:01\n",
      "   ---------------------------------------  624.6/626.3 kB 3.3 MB/s eta 0:00:01\n",
      "   ---------------------------------------- 626.3/626.3 kB 3.0 MB/s eta 0:00:00\n",
      "Installing collected packages: textblob\n",
      "Successfully installed textblob-0.18.0.post0\n"
     ]
    }
   ],
   "source": [
    "!pip install textblob"
   ]
  },
  {
   "cell_type": "code",
   "execution_count": 13,
   "id": "c7f52f4f-9a3e-475e-8a7e-a8dfcce695f7",
   "metadata": {},
   "outputs": [],
   "source": [
    "from textblob import TextBlob"
   ]
  },
  {
   "cell_type": "code",
   "execution_count": 14,
   "id": "7fdb528b-7af8-4705-866d-7051f9689147",
   "metadata": {},
   "outputs": [],
   "source": [
    "def textblob_sentiment_analysis(review):\n",
    "    sentiment = TextBlob(review).sentiment\n",
    "    if sentiment.polarity > 0.1 :\n",
    "        return 'Positive'\n",
    "    elif sentiment.polarity < -0.1 :\n",
    "        return 'Negative'\n",
    "    else :\n",
    "        return 'neutral'"
   ]
  },
  {
   "cell_type": "code",
   "execution_count": 15,
   "id": "96a1d020-1f4e-4955-806e-6a5029c7cb99",
   "metadata": {},
   "outputs": [],
   "source": [
    "df['Sentiment'] = df['Review'].apply(textblob_sentiment_analysis)"
   ]
  },
  {
   "cell_type": "code",
   "execution_count": 16,
   "id": "716b5736-9431-4dfc-b7b4-d7da94ccbe39",
   "metadata": {},
   "outputs": [
    {
     "data": {
      "text/html": [
       "<div>\n",
       "<style scoped>\n",
       "    .dataframe tbody tr th:only-of-type {\n",
       "        vertical-align: middle;\n",
       "    }\n",
       "\n",
       "    .dataframe tbody tr th {\n",
       "        vertical-align: top;\n",
       "    }\n",
       "\n",
       "    .dataframe thead th {\n",
       "        text-align: right;\n",
       "    }\n",
       "</style>\n",
       "<table border=\"1\" class=\"dataframe\">\n",
       "  <thead>\n",
       "    <tr style=\"text-align: right;\">\n",
       "      <th></th>\n",
       "      <th>Review</th>\n",
       "      <th>Rating</th>\n",
       "      <th>Sentiment</th>\n",
       "    </tr>\n",
       "  </thead>\n",
       "  <tbody>\n",
       "    <tr>\n",
       "      <th>242</th>\n",
       "      <td>Can't see groups and their updates.</td>\n",
       "      <td>3</td>\n",
       "      <td>neutral</td>\n",
       "    </tr>\n",
       "    <tr>\n",
       "      <th>9</th>\n",
       "      <td>Clean design with limited features. How about ...</td>\n",
       "      <td>3</td>\n",
       "      <td>Positive</td>\n",
       "    </tr>\n",
       "    <tr>\n",
       "      <th>423</th>\n",
       "      <td>Unbelievably slow - to the point that I'm not ...</td>\n",
       "      <td>1</td>\n",
       "      <td>Negative</td>\n",
       "    </tr>\n",
       "    <tr>\n",
       "      <th>266</th>\n",
       "      <td>Does the basics but could really use more feat...</td>\n",
       "      <td>3</td>\n",
       "      <td>Positive</td>\n",
       "    </tr>\n",
       "    <tr>\n",
       "      <th>508</th>\n",
       "      <td>NICE!</td>\n",
       "      <td>5</td>\n",
       "      <td>Positive</td>\n",
       "    </tr>\n",
       "  </tbody>\n",
       "</table>\n",
       "</div>"
      ],
      "text/plain": [
       "                                                Review  Rating Sentiment\n",
       "242                Can't see groups and their updates.       3   neutral\n",
       "9    Clean design with limited features. How about ...       3  Positive\n",
       "423  Unbelievably slow - to the point that I'm not ...       1  Negative\n",
       "266  Does the basics but could really use more feat...       3  Positive\n",
       "508                                              NICE!       5  Positive"
      ]
     },
     "execution_count": 16,
     "metadata": {},
     "output_type": "execute_result"
    }
   ],
   "source": [
    "df.sample(5)"
   ]
  },
  {
   "cell_type": "code",
   "execution_count": 17,
   "id": "9b30d967-02f3-490e-a386-3d49ebe383ae",
   "metadata": {},
   "outputs": [
    {
     "data": {
      "text/plain": [
       "Sentiment\n",
       "Positive    298\n",
       "neutral     297\n",
       "Negative    107\n",
       "Name: count, dtype: int64"
      ]
     },
     "execution_count": 17,
     "metadata": {},
     "output_type": "execute_result"
    }
   ],
   "source": [
    "# analyzing app reviews sentiments\n",
    "\n",
    "\n",
    "sentiment_distribution = df['Sentiment'].value_counts()\n",
    "sentiment_distribution"
   ]
  },
  {
   "cell_type": "code",
   "execution_count": 20,
   "id": "dcc61a4a-7cfe-4700-9b9b-6b7c75022ea6",
   "metadata": {},
   "outputs": [
    {
     "data": {
      "image/png": "[encoded data removed]",
      "text/plain": [
       "<Figure size 900x500 with 1 Axes>"
      ]
     },
     "metadata": {},
     "output_type": "display_data"
    }
   ],
   "source": [
    "plt.figure(figsize = (9,5))\n",
    "sns.barplot(x = sentiment_distribution.index,\n",
    "           y = sentiment_distribution.values)\n",
    "plt.title('distribution of sentiment')\n",
    "plt.xlabel('sentiment')\n",
    "plt.ylabel('count')\n",
    "plt.show()"
   ]
  },
  {
   "cell_type": "code",
   "execution_count": null,
   "id": "fd6df66e-32d7-4cfe-bb96-2e9ea473eb25",
   "metadata": {},
   "outputs": [],
   "source": [
    "#So, we can see althrough the app has low rating , \n",
    "#still the reviewrs dont use many negative words in\n",
    "#the words in the reviews for the app.\n",
    "#Next, we'll explore the relationship between the sentiments and the ratings.\n",
    "#This analysis can help us understand whether there is a correlation between\n",
    "#the sentiment of the text and numerical rating."
   ]
  },
  {
   "cell_type": "code",
   "execution_count": 21,
   "id": "69b42a1c-9013-4954-a70a-971864d7807c",
   "metadata": {},
   "outputs": [
    {
     "data": {
      "image/png": "[encoded data removed]",
      "text/plain": [
       "<Figure size 1000x500 with 1 Axes>"
      ]
     },
     "metadata": {},
     "output_type": "display_data"
    }
   ],
   "source": [
    "plt.figure(figsize = (10,5))\n",
    "sns.countplot(data = df,\n",
    "             x = 'Rating' ,\n",
    "             hue = 'Sentiment')\n",
    "plt.xlabel('Rating')\n",
    "plt.ylabel('count')\n",
    "plt.legend(title='Sentiment')\n",
    "plt.show()"
   ]
  },
  {
   "cell_type": "code",
   "execution_count": null,
   "id": "5cbbeb6b-bead-40f9-83b0-572c4a7ffe28",
   "metadata": {},
   "outputs": [],
   "source": []
  }
 ],
 "metadata": {
  "kernelspec": {
   "display_name": "Python 3 (ipykernel)",
   "language": "python",
   "name": "python3"
  },
  "language_info": {
   "codemirror_mode": {
    "name": "ipython",
    "version": 3
   },
   "file_extension": ".py",
   "mimetype": "text/x-python",
   "name": "python",
   "nbconvert_exporter": "python",
   "pygments_lexer": "ipython3",
   "version": "3.11.7"
  }
 },
 "nbformat": 4,
 "nbformat_minor": 5
}
