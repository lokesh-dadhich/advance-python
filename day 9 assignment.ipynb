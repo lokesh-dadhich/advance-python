{
 "cells": [
  {
   "cell_type": "markdown",
   "id": "a9e3ba79-3520-4d47-ba17-49948ec5d6dd",
   "metadata": {},
   "source": [
    "# dataframe1"
   ]
  },
  {
   "cell_type": "code",
   "execution_count": 4,
   "id": "0df11718-5109-401e-aa19-88bd89e3de69",
   "metadata": {},
   "outputs": [],
   "source": [
    "import numpy as np\n",
    "import pandas as pd"
   ]
  },
  {
   "cell_type": "code",
   "execution_count": 6,
   "id": "858d6ab2-25dd-4240-925f-f7cca42bb47e",
   "metadata": {},
   "outputs": [],
   "source": [
    "df = pd.read_csv(\"C:\\\\Users\\\\DELL\\\\Desktop\\\\xyza\\\\covid_toy.csv\")"
   ]
  },
  {
   "cell_type": "code",
   "execution_count": 7,
   "id": "eb0fe37e-76eb-4c87-b82e-8b0810ca370b",
   "metadata": {},
   "outputs": [
    {
     "data": {
      "text/html": [
       "<div>\n",
       "<style scoped>\n",
       "    .dataframe tbody tr th:only-of-type {\n",
       "        vertical-align: middle;\n",
       "    }\n",
       "\n",
       "    .dataframe tbody tr th {\n",
       "        vertical-align: top;\n",
       "    }\n",
       "\n",
       "    .dataframe thead th {\n",
       "        text-align: right;\n",
       "    }\n",
       "</style>\n",
       "<table border=\"1\" class=\"dataframe\">\n",
       "  <thead>\n",
       "    <tr style=\"text-align: right;\">\n",
       "      <th></th>\n",
       "      <th>age</th>\n",
       "      <th>gender</th>\n",
       "      <th>fever</th>\n",
       "      <th>cough</th>\n",
       "      <th>city</th>\n",
       "      <th>has_covid</th>\n",
       "    </tr>\n",
       "  </thead>\n",
       "  <tbody>\n",
       "    <tr>\n",
       "      <th>0</th>\n",
       "      <td>60</td>\n",
       "      <td>Male</td>\n",
       "      <td>103.0</td>\n",
       "      <td>Mild</td>\n",
       "      <td>Kolkata</td>\n",
       "      <td>No</td>\n",
       "    </tr>\n",
       "    <tr>\n",
       "      <th>1</th>\n",
       "      <td>27</td>\n",
       "      <td>Male</td>\n",
       "      <td>100.0</td>\n",
       "      <td>Mild</td>\n",
       "      <td>Delhi</td>\n",
       "      <td>Yes</td>\n",
       "    </tr>\n",
       "  </tbody>\n",
       "</table>\n",
       "</div>"
      ],
      "text/plain": [
       "   age gender  fever cough     city has_covid\n",
       "0   60   Male  103.0  Mild  Kolkata        No\n",
       "1   27   Male  100.0  Mild    Delhi       Yes"
      ]
     },
     "execution_count": 7,
     "metadata": {},
     "output_type": "execute_result"
    }
   ],
   "source": [
    "df.head(2)"
   ]
  },
  {
   "cell_type": "code",
   "execution_count": 10,
   "id": "df4e5eb9-5e79-4529-864d-7f0a49732b68",
   "metadata": {},
   "outputs": [
    {
     "data": {
      "text/html": [
       "<div>\n",
       "<style scoped>\n",
       "    .dataframe tbody tr th:only-of-type {\n",
       "        vertical-align: middle;\n",
       "    }\n",
       "\n",
       "    .dataframe tbody tr th {\n",
       "        vertical-align: top;\n",
       "    }\n",
       "\n",
       "    .dataframe thead th {\n",
       "        text-align: right;\n",
       "    }\n",
       "</style>\n",
       "<table border=\"1\" class=\"dataframe\">\n",
       "  <thead>\n",
       "    <tr style=\"text-align: right;\">\n",
       "      <th></th>\n",
       "      <th>age</th>\n",
       "      <th>gender</th>\n",
       "      <th>fever</th>\n",
       "      <th>city</th>\n",
       "      <th>has_covid</th>\n",
       "    </tr>\n",
       "  </thead>\n",
       "  <tbody>\n",
       "    <tr>\n",
       "      <th>0</th>\n",
       "      <td>60</td>\n",
       "      <td>Male</td>\n",
       "      <td>103.0</td>\n",
       "      <td>Kolkata</td>\n",
       "      <td>No</td>\n",
       "    </tr>\n",
       "    <tr>\n",
       "      <th>1</th>\n",
       "      <td>27</td>\n",
       "      <td>Male</td>\n",
       "      <td>100.0</td>\n",
       "      <td>Delhi</td>\n",
       "      <td>Yes</td>\n",
       "    </tr>\n",
       "    <tr>\n",
       "      <th>2</th>\n",
       "      <td>42</td>\n",
       "      <td>Male</td>\n",
       "      <td>101.0</td>\n",
       "      <td>Delhi</td>\n",
       "      <td>No</td>\n",
       "    </tr>\n",
       "    <tr>\n",
       "      <th>3</th>\n",
       "      <td>31</td>\n",
       "      <td>Female</td>\n",
       "      <td>98.0</td>\n",
       "      <td>Kolkata</td>\n",
       "      <td>No</td>\n",
       "    </tr>\n",
       "    <tr>\n",
       "      <th>4</th>\n",
       "      <td>65</td>\n",
       "      <td>Female</td>\n",
       "      <td>101.0</td>\n",
       "      <td>Mumbai</td>\n",
       "      <td>No</td>\n",
       "    </tr>\n",
       "    <tr>\n",
       "      <th>...</th>\n",
       "      <td>...</td>\n",
       "      <td>...</td>\n",
       "      <td>...</td>\n",
       "      <td>...</td>\n",
       "      <td>...</td>\n",
       "    </tr>\n",
       "    <tr>\n",
       "      <th>95</th>\n",
       "      <td>12</td>\n",
       "      <td>Female</td>\n",
       "      <td>104.0</td>\n",
       "      <td>Bangalore</td>\n",
       "      <td>No</td>\n",
       "    </tr>\n",
       "    <tr>\n",
       "      <th>96</th>\n",
       "      <td>51</td>\n",
       "      <td>Female</td>\n",
       "      <td>101.0</td>\n",
       "      <td>Kolkata</td>\n",
       "      <td>Yes</td>\n",
       "    </tr>\n",
       "    <tr>\n",
       "      <th>97</th>\n",
       "      <td>20</td>\n",
       "      <td>Female</td>\n",
       "      <td>101.0</td>\n",
       "      <td>Bangalore</td>\n",
       "      <td>No</td>\n",
       "    </tr>\n",
       "    <tr>\n",
       "      <th>98</th>\n",
       "      <td>5</td>\n",
       "      <td>Female</td>\n",
       "      <td>98.0</td>\n",
       "      <td>Mumbai</td>\n",
       "      <td>No</td>\n",
       "    </tr>\n",
       "    <tr>\n",
       "      <th>99</th>\n",
       "      <td>10</td>\n",
       "      <td>Female</td>\n",
       "      <td>98.0</td>\n",
       "      <td>Kolkata</td>\n",
       "      <td>Yes</td>\n",
       "    </tr>\n",
       "  </tbody>\n",
       "</table>\n",
       "<p>100 rows × 5 columns</p>\n",
       "</div>"
      ],
      "text/plain": [
       "    age  gender  fever       city has_covid\n",
       "0    60    Male  103.0    Kolkata        No\n",
       "1    27    Male  100.0      Delhi       Yes\n",
       "2    42    Male  101.0      Delhi        No\n",
       "3    31  Female   98.0    Kolkata        No\n",
       "4    65  Female  101.0     Mumbai        No\n",
       "..  ...     ...    ...        ...       ...\n",
       "95   12  Female  104.0  Bangalore        No\n",
       "96   51  Female  101.0    Kolkata       Yes\n",
       "97   20  Female  101.0  Bangalore        No\n",
       "98    5  Female   98.0     Mumbai        No\n",
       "99   10  Female   98.0    Kolkata       Yes\n",
       "\n",
       "[100 rows x 5 columns]"
      ]
     },
     "execution_count": 10,
     "metadata": {},
     "output_type": "execute_result"
    }
   ],
   "source": [
    "x = df.drop(columns = ['cough'] , axis = 1)\n",
    "x\n"
   ]
  },
  {
   "cell_type": "code",
   "execution_count": 11,
   "id": "67b6aaed-d39c-43f2-9d79-906a2e2a7928",
   "metadata": {},
   "outputs": [
    {
     "data": {
      "text/html": [
       "<div>\n",
       "<style scoped>\n",
       "    .dataframe tbody tr th:only-of-type {\n",
       "        vertical-align: middle;\n",
       "    }\n",
       "\n",
       "    .dataframe tbody tr th {\n",
       "        vertical-align: top;\n",
       "    }\n",
       "\n",
       "    .dataframe thead th {\n",
       "        text-align: right;\n",
       "    }\n",
       "</style>\n",
       "<table border=\"1\" class=\"dataframe\">\n",
       "  <thead>\n",
       "    <tr style=\"text-align: right;\">\n",
       "      <th></th>\n",
       "      <th>age</th>\n",
       "      <th>gender</th>\n",
       "      <th>fever</th>\n",
       "      <th>city</th>\n",
       "      <th>has_covid</th>\n",
       "    </tr>\n",
       "  </thead>\n",
       "  <tbody>\n",
       "    <tr>\n",
       "      <th>0</th>\n",
       "      <td>60</td>\n",
       "      <td>Male</td>\n",
       "      <td>103.0</td>\n",
       "      <td>Kolkata</td>\n",
       "      <td>No</td>\n",
       "    </tr>\n",
       "    <tr>\n",
       "      <th>1</th>\n",
       "      <td>27</td>\n",
       "      <td>Male</td>\n",
       "      <td>100.0</td>\n",
       "      <td>Delhi</td>\n",
       "      <td>Yes</td>\n",
       "    </tr>\n",
       "  </tbody>\n",
       "</table>\n",
       "</div>"
      ],
      "text/plain": [
       "   age gender  fever     city has_covid\n",
       "0   60   Male  103.0  Kolkata        No\n",
       "1   27   Male  100.0    Delhi       Yes"
      ]
     },
     "execution_count": 11,
     "metadata": {},
     "output_type": "execute_result"
    }
   ],
   "source": [
    "x.head(2)"
   ]
  },
  {
   "cell_type": "code",
   "execution_count": 13,
   "id": "b9facba9-81a5-4e95-abca-f1ca1c5ffaa8",
   "metadata": {},
   "outputs": [],
   "source": [
    "y=df['cough']"
   ]
  },
  {
   "cell_type": "code",
   "execution_count": 14,
   "id": "b053bbc8-dd81-4946-960b-f35711406ccf",
   "metadata": {},
   "outputs": [
    {
     "name": "stdout",
     "output_type": "stream",
     "text": [
      "Total data shape: (100, 6)\n",
      "Independent data shape: (100, 5)\n",
      "Dependent data shape: (100,)\n"
     ]
    }
   ],
   "source": [
    "print(\"Total data shape:\",df.shape)\n",
    "print(\"Independent data shape:\", x.shape)\n",
    "print(\"Dependent data shape:\", y.shape)"
   ]
  },
  {
   "cell_type": "code",
   "execution_count": 15,
   "id": "fed80c0f-915f-4b90-84a0-56f64e90576b",
   "metadata": {},
   "outputs": [],
   "source": [
    "from sklearn.model_selection import train_test_split"
   ]
  },
  {
   "cell_type": "code",
   "execution_count": 16,
   "id": "b2ed8f34-f856-45af-a7ff-1b6f420a20d3",
   "metadata": {},
   "outputs": [],
   "source": [
    "x_train  , x_test , y_train , Y_test = train_test_split(x,y,test_size = 0.2 , random_state = 42)"
   ]
  },
  {
   "cell_type": "code",
   "execution_count": 18,
   "id": "617fae5f-28d3-4a66-a323-14f5de2cdd2d",
   "metadata": {},
   "outputs": [
    {
     "name": "stdout",
     "output_type": "stream",
     "text": [
      "Total data shape= (100, 6)\n",
      "Independent data shape=  (100, 5)\n",
      "Dependent data shape =  (100,)\n",
      "X_train data shape= (80, 5)\n",
      "X_test data shape (20, 5)\n"
     ]
    }
   ],
   "source": [
    "print(\"Total data shape=\" ,df.shape)\n",
    "print(\"Independent data shape= \", x.shape)\n",
    "print(\"Dependent data shape = \", y.shape) \n",
    "print(\"X_train data shape=\", x_train.shape)\n",
    "print(\"X_test data shape\", x_test.shape)"
   ]
  },
  {
   "cell_type": "markdown",
   "id": "2262e618-76c4-4309-a87e-1ccd311b8c6e",
   "metadata": {},
   "source": [
    "# dataframe2"
   ]
  },
  {
   "cell_type": "code",
   "execution_count": 19,
   "id": "8a7ff74b-1e52-416f-b48a-05183290da9c",
   "metadata": {},
   "outputs": [],
   "source": [
    "df2=pd.read_csv(\"C:\\\\Users\\\\DELL\\\\Desktop\\\\xyza\\\\tips.csv\")"
   ]
  },
  {
   "cell_type": "code",
   "execution_count": 20,
   "id": "6e6985a0-53c6-44d2-81c1-e2edf3323bc6",
   "metadata": {},
   "outputs": [
    {
     "data": {
      "text/plain": [
       "pandas.core.frame.DataFrame"
      ]
     },
     "execution_count": 20,
     "metadata": {},
     "output_type": "execute_result"
    }
   ],
   "source": [
    "a=df2.drop(columns=['smoker'] , axis=1)\n",
    "type(a)"
   ]
  },
  {
   "cell_type": "code",
   "execution_count": 21,
   "id": "d13a3893-4fcc-4628-96ec-e0c30e6476b5",
   "metadata": {},
   "outputs": [],
   "source": [
    "b=df2['tip']"
   ]
  },
  {
   "cell_type": "code",
   "execution_count": 22,
   "id": "d62e3703-762c-44f0-9c05-0ff1f9709b42",
   "metadata": {},
   "outputs": [
    {
     "name": "stdout",
     "output_type": "stream",
     "text": [
      "Total data shape= H  (244, 7)\n",
      "Independent data shape (244, 6)\n",
      "Dependent data shape (244,)\n"
     ]
    }
   ],
   "source": [
    "print(\"Total data shape= H \", df2.shape)\n",
    "print(\"Independent data shape\", a.shape)\n",
    "print(\"Dependent data shape\", b.shape)"
   ]
  },
  {
   "cell_type": "code",
   "execution_count": 23,
   "id": "fd2a480d-0a65-45f8-8cf7-fe87c5559aa8",
   "metadata": {},
   "outputs": [],
   "source": [
    "from sklearn.model_selection import train_test_split \n"
   ]
  },
  {
   "cell_type": "code",
   "execution_count": 24,
   "id": "2c190446-e150-4fe3-967f-5fbdf4ac8a58",
   "metadata": {},
   "outputs": [],
   "source": [
    "a_train , a_test , b_train , b_test = train_test_split(a,b,test_size = 0.2 , random_state = 42)\n"
   ]
  },
  {
   "cell_type": "code",
   "execution_count": 25,
   "id": "ade9e45d-952f-4730-a559-916f8f040545",
   "metadata": {},
   "outputs": [
    {
     "name": "stdout",
     "output_type": "stream",
     "text": [
      "Total data shape= (244, 7)\n",
      "Independent data shape=  (244, 6)\n",
      "Dependent data shape =  (244,)\n",
      "X_train data shape= (195, 6)\n",
      "X_test data shape (49,)\n"
     ]
    }
   ],
   "source": [
    "print(\"Total data shape=\" ,df2.shape)\n",
    "print(\"Independent data shape= \", a.shape)\n",
    "print(\"Dependent data shape = \", b.shape) \n",
    "print(\"X_train data shape=\", a_train.shape)\n",
    "print(\"X_test data shape\", b_test.shape)"
   ]
  },
  {
   "cell_type": "markdown",
   "id": "729db77e-18b2-42bb-8569-c28cf0e598da",
   "metadata": {},
   "source": [
    "# dataframe3"
   ]
  },
  {
   "cell_type": "code",
   "execution_count": 29,
   "id": "ce64f567-9c95-4a22-bc27-8702644ea17c",
   "metadata": {},
   "outputs": [],
   "source": [
    "df3 = pd.read_csv(\"C:\\\\Users\\\\DELL\\\\Desktop\\\\xyza\\\\titanic.csv\")"
   ]
  },
  {
   "cell_type": "code",
   "execution_count": 30,
   "id": "3a8161b2-7697-4369-aee0-17939789e6d6",
   "metadata": {},
   "outputs": [
    {
     "data": {
      "text/plain": [
       "pandas.core.frame.DataFrame"
      ]
     },
     "execution_count": 30,
     "metadata": {},
     "output_type": "execute_result"
    }
   ],
   "source": [
    "x1=df3.drop(columns=['Survived'] , axis = 1) ### independent data\n",
    "type(x1)"
   ]
  },
  {
   "cell_type": "code",
   "execution_count": 31,
   "id": "1d750960-3deb-4e7a-ba94-1cb7213ddbc7",
   "metadata": {},
   "outputs": [],
   "source": [
    "y1=df3['Survived']\n"
   ]
  },
  {
   "cell_type": "code",
   "execution_count": 32,
   "id": "411d2f46-7a97-456e-9df8-aa8c12284e90",
   "metadata": {},
   "outputs": [
    {
     "name": "stdout",
     "output_type": "stream",
     "text": [
      "Total data shape =  (418, 12)\n",
      "Independent  data shape =  (418, 11)\n",
      "Dependent  data shape =  (418,)\n"
     ]
    }
   ],
   "source": [
    "print(\"Total data shape = \" , df3.shape) \n",
    "print(\"Independent  data shape = \" , x1.shape) \n",
    "print(\"Dependent  data shape = \" , y1.shape) "
   ]
  },
  {
   "cell_type": "code",
   "execution_count": 33,
   "id": "6b0589ba-0364-48ca-8074-41205e4c2008",
   "metadata": {},
   "outputs": [],
   "source": [
    "from sklearn.model_selection import train_test_split "
   ]
  },
  {
   "cell_type": "code",
   "execution_count": 34,
   "id": "02cdf769-7dff-4551-b43e-a9e33a96184a",
   "metadata": {},
   "outputs": [],
   "source": [
    "x_train , x_test , y_train , y_test = train_test_split(x,y,test_size = 0.2 , random_state = 42)"
   ]
  },
  {
   "cell_type": "code",
   "execution_count": 35,
   "id": "010d91c2-84fe-4fac-9d63-0aab8940ad92",
   "metadata": {},
   "outputs": [
    {
     "name": "stdout",
     "output_type": "stream",
     "text": [
      "Total data shape =  (418, 12)\n",
      "Independent  data shape =  (418, 11)\n",
      "Dependent  data shape =  (418,)\n",
      "X_train data shape= (80, 5)\n",
      "X_test data shape =  (20, 5)\n"
     ]
    }
   ],
   "source": [
    "print(\"Total data shape = \" , df3.shape) \n",
    "print(\"Independent  data shape = \" , x1.shape) \n",
    "print(\"Dependent  data shape = \" , y1.shape) \n",
    "print(\"X_train data shape=\" , x_train.shape)\n",
    "print(\"X_test data shape = \" , x_test.shape)"
   ]
  },
  {
   "cell_type": "code",
   "execution_count": null,
   "id": "120d8c40-f7de-4a86-bd35-d5169c1fc7ba",
   "metadata": {},
   "outputs": [],
   "source": []
  }
 ],
 "metadata": {
  "kernelspec": {
   "display_name": "Python 3 (ipykernel)",
   "language": "python",
   "name": "python3"
  },
  "language_info": {
   "codemirror_mode": {
    "name": "ipython",
    "version": 3
   },
   "file_extension": ".py",
   "mimetype": "text/x-python",
   "name": "python",
   "nbconvert_exporter": "python",
   "pygments_lexer": "ipython3",
   "version": "3.11.7"
  }
 },
 "nbformat": 4,
 "nbformat_minor": 5
}
