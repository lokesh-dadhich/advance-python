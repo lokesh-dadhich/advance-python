{
 "cells": [
  {
   "cell_type": "markdown",
   "id": "30e663e6-bef1-480e-b720-04824497663e",
   "metadata": {},
   "source": [
    "### Q1. Numpy=Numpy arrays are optimized for numerical operations and are much faster than Python lists for such computations.NumPy arrays use contiguous blocks of memory and store elements of a single data type.NumPy supports vectorized operations. NumPy arrays support broadcasting.NumPy provides a wide range of mathematical functions and operations optimized for arrays.\n",
    "###      List= Python lists can store elements of different data types within the same list.Lists can dynamically resize themselves, allowing for easy appending, inserting, and removing elements.Lists are suitable for storing any type of data and are not specifically optimized for numerical computations.Lists are simple and intuitive to use, making them suitable for a wide range of tasks"
   ]
  },
  {
   "cell_type": "code",
   "execution_count": null,
   "id": "65fbc957-c994-4edf-a2ae-24a157ab27eb",
   "metadata": {},
   "outputs": [],
   "source": [
    "# Q2.print(\"Total Dimensions :\" , b.ndim). \r",
    "#    print(\"Shape of an array :\" , b.shape) "
   ]
  },
  {
   "cell_type": "code",
   "execution_count": null,
   "id": "b889b6cd-fd63-4990-aff9-cf507f721795",
   "metadata": {},
   "outputs": [],
   "source": [
    "# Q3.\n",
    "\n",
    "'''1. zeros() function: This function create an array (either one dimensional or multi dimensional) and fill all the values with zeros . \n",
    "\n",
    "2. ones() function: This function creats an array (either one dimensional or multi dimensional) and fill all the values with one . \n",
    "\n",
    "3. eye() function: This function creats an array with all the digonal elements as 1 and rest are 0(In square matrix). \n",
    "                   In non-square matrix the value are sstill one for digonal (upto which it can draw digonal ) and rest are zero .  \n",
    "\n",
    "4. diag() function: This function creats a two dimensional array with all the digonal elements as the given value and rest are zero .  \n",
    "\n",
    "5. unique() function:  This function returns the unique elements of an array.   \n",
    "\n",
    "6. linspace() function: This function returns value between a given range and with a same gap between consicutive elements . \n",
    "\n",
    "7. hstack() function: This function stacks arrays in sequence horizontally (column-wise). \n",
    "\n",
    "8. vstack() function: This function stacks arrays in sequence vertically (row-wise). \n",
    "\n",
    "9. rand() function: This function is used to generate a random number between 0 to 1 . \n",
    "\n",
    "10. seed() function: We know that randint function generates random numbers . Everytime we run the program  , new set of random number is generated .\n",
    "                     So , solve this problem we will use seed function . '''\n",
    "\n"
   ]
  },
  {
   "cell_type": "code",
   "execution_count": 2,
   "id": "d95e7aa0-7dec-41b4-ab24-a63f8e07e161",
   "metadata": {},
   "outputs": [
    {
     "name": "stdin",
     "output_type": "stream",
     "text": [
      "Enter size: 4\n",
      "Enter number: 34\n",
      "Enter number: 42\n",
      "Enter number: 56\n",
      "Enter number: 73\n"
     ]
    },
    {
     "name": "stdout",
     "output_type": "stream",
     "text": [
      "[34, 42, 56, 73]\n"
     ]
    },
    {
     "data": {
      "text/plain": [
       "array([34, 42, 56, 73])"
      ]
     },
     "execution_count": 2,
     "metadata": {},
     "output_type": "execute_result"
    }
   ],
   "source": [
    "# Q4.\n",
    "import numpy as np\n",
    "a = [] \n",
    "size  = int(input(\"Enter size:\")) \n",
    "for i in range(size):\n",
    "    val = int(input(\"Enter number:\")) \n",
    "    a.append(val) \n",
    "    \n",
    "print(a) \n",
    "b = np.array(a) \n",
    "b"
   ]
  },
  {
   "cell_type": "code",
   "execution_count": 6,
   "id": "7b61fa73-e759-441c-952f-b243ba2bb341",
   "metadata": {},
   "outputs": [],
   "source": [
    "import pandas as pd"
   ]
  },
  {
   "cell_type": "code",
   "execution_count": 8,
   "id": "02c00636-a709-467f-acea-ab1a05a127cb",
   "metadata": {},
   "outputs": [],
   "source": [
    "# Q5. \n",
    "# (1). Series =====> it is used for one dimensional data . It shows only values of a column and it will not include column name .\n"
   ]
  },
  {
   "cell_type": "code",
   "execution_count": 9,
   "id": "a3fa544a-f058-4412-82bf-6ce5bee37aec",
   "metadata": {},
   "outputs": [
    {
     "data": {
      "text/plain": [
       "0     1\n",
       "1    43\n",
       "2    56\n",
       "3    70\n",
       "dtype: int64"
      ]
     },
     "execution_count": 9,
     "metadata": {},
     "output_type": "execute_result"
    }
   ],
   "source": [
    "a = pd.Series([1,43,56,70])\n",
    "a"
   ]
  },
  {
   "cell_type": "code",
   "execution_count": 12,
   "id": "b8952ee6-2f6d-474c-843e-c42a83dfa8f0",
   "metadata": {},
   "outputs": [],
   "source": [
    "# (2). DataFrame ====> It is multi-dimensiuonal data . It shows column name with values .\n",
    "\n",
    "data = {\n",
    "    'Name': ['lokesh', 'devesh', 'kishan', 'abhi', 'yash'],\n",
    "    'Age': [25, 30, 35, 40, 45],\n",
    "    'City': ['New York', 'Los Angeles', 'Chicago', 'Houston', 'San Francisco']\n",
    "}"
   ]
  },
  {
   "cell_type": "code",
   "execution_count": 13,
   "id": "da84cb3b-e79d-4061-bd2f-0cacfc51bdaf",
   "metadata": {},
   "outputs": [
    {
     "data": {
      "text/html": [
       "<div>\n",
       "<style scoped>\n",
       "    .dataframe tbody tr th:only-of-type {\n",
       "        vertical-align: middle;\n",
       "    }\n",
       "\n",
       "    .dataframe tbody tr th {\n",
       "        vertical-align: top;\n",
       "    }\n",
       "\n",
       "    .dataframe thead th {\n",
       "        text-align: right;\n",
       "    }\n",
       "</style>\n",
       "<table border=\"1\" class=\"dataframe\">\n",
       "  <thead>\n",
       "    <tr style=\"text-align: right;\">\n",
       "      <th></th>\n",
       "      <th>Name</th>\n",
       "      <th>Age</th>\n",
       "      <th>City</th>\n",
       "    </tr>\n",
       "  </thead>\n",
       "  <tbody>\n",
       "    <tr>\n",
       "      <th>0</th>\n",
       "      <td>lokesh</td>\n",
       "      <td>25</td>\n",
       "      <td>New York</td>\n",
       "    </tr>\n",
       "    <tr>\n",
       "      <th>1</th>\n",
       "      <td>devesh</td>\n",
       "      <td>30</td>\n",
       "      <td>Los Angeles</td>\n",
       "    </tr>\n",
       "    <tr>\n",
       "      <th>2</th>\n",
       "      <td>kishan</td>\n",
       "      <td>35</td>\n",
       "      <td>Chicago</td>\n",
       "    </tr>\n",
       "    <tr>\n",
       "      <th>3</th>\n",
       "      <td>abhi</td>\n",
       "      <td>40</td>\n",
       "      <td>Houston</td>\n",
       "    </tr>\n",
       "    <tr>\n",
       "      <th>4</th>\n",
       "      <td>yash</td>\n",
       "      <td>45</td>\n",
       "      <td>San Francisco</td>\n",
       "    </tr>\n",
       "  </tbody>\n",
       "</table>\n",
       "</div>"
      ],
      "text/plain": [
       "     Name  Age           City\n",
       "0  lokesh   25       New York\n",
       "1  devesh   30    Los Angeles\n",
       "2  kishan   35        Chicago\n",
       "3    abhi   40        Houston\n",
       "4    yash   45  San Francisco"
      ]
     },
     "execution_count": 13,
     "metadata": {},
     "output_type": "execute_result"
    }
   ],
   "source": [
    "df = pd.DataFrame(data) \n",
    "df"
   ]
  },
  {
   "cell_type": "code",
   "execution_count": 14,
   "id": "86b1f088-00ea-4af9-8890-e6116676045b",
   "metadata": {},
   "outputs": [],
   "source": [
    "# Q6.In order to check missing values in Pandas DataFrame, we use a function isnull() and notnull(). "
   ]
  },
  {
   "cell_type": "code",
   "execution_count": 18,
   "id": "2fe60d80-9e02-47a8-aa75-8babc29d15d2",
   "metadata": {},
   "outputs": [
    {
     "name": "stdout",
     "output_type": "stream",
     "text": [
      "              A          B\n",
      "count  5.000000   5.000000\n",
      "mean   3.000000  30.000000\n",
      "std    1.581139  15.811388\n",
      "min    1.000000  10.000000\n",
      "25%    2.000000  20.000000\n",
      "50%    3.000000  30.000000\n",
      "75%    4.000000  40.000000\n",
      "max    5.000000  50.000000\n"
     ]
    }
   ],
   "source": [
    "# Q7. describe\n",
    "'''Provides summary statistics for numerical columns in the DataFrame.Excludes non-numeric columns by default.\n",
    "It gives a statistical summary of the data, focusing on numerical aspects.'''\n",
    "import pandas as pd\n",
    "\n",
    "# Create a DataFrame\n",
    "data = {'A': [1, 2, 3, 4, 5],\n",
    "        'B': [10, 20, 30, 40, 50],\n",
    "        'C': ['a', 'b', 'c', 'd', 'e']}\n",
    "\n",
    "df = pd.DataFrame(data)\n",
    "\n",
    "# Use describe() method\n",
    "print(df.describe())\n"
   ]
  },
  {
   "cell_type": "code",
   "execution_count": 19,
   "id": "7992cfce-f2e4-4d14-bcb2-b7aa3f0fe9ab",
   "metadata": {},
   "outputs": [
    {
     "name": "stdout",
     "output_type": "stream",
     "text": [
      "<class 'pandas.core.frame.DataFrame'>\n",
      "RangeIndex: 5 entries, 0 to 4\n",
      "Data columns (total 3 columns):\n",
      " #   Column  Non-Null Count  Dtype \n",
      "---  ------  --------------  ----- \n",
      " 0   A       5 non-null      int64 \n",
      " 1   B       5 non-null      int64 \n",
      " 2   C       5 non-null      object\n",
      "dtypes: int64(2), object(1)\n",
      "memory usage: 252.0+ bytes\n",
      "None\n"
     ]
    }
   ],
   "source": [
    "# info.\n",
    "'''Provides a concise summary of the DataFrame.Includes all columns, both numeric and non-numeric.\n",
    "It gives information about the DataFrame structure and data types.'''\n",
    "import pandas as pd\n",
    "\n",
    "# Create a DataFrame\n",
    "data = {'A': [1, 2, 3, 4, 5],\n",
    "        'B': [10, 20, 30, 40, 50],\n",
    "        'C': ['a', 'b', 'c', 'd', 'e']}\n",
    "\n",
    "df = pd.DataFrame(data)\n",
    "\n",
    "# Use info() method\n",
    "print(df.info())\n"
   ]
  },
  {
   "cell_type": "markdown",
   "id": "3dcadae2-8ff3-4f78-a5e9-e7d10aa02bd7",
   "metadata": {},
   "source": [
    "# Q8.\n",
    "loc[] method: The loc[] method is primarily label-based, meaning that you use row and column labels to access data.\n",
    "                 You can use either row labels (index labels) or column labels (column names) or a combination of both to select data.\n",
    "                 It includes the end value when slicing ranges.\n",
    "\n",
    "\n",
    "\n",
    "iloc[] method: The iloc[] method is primarily integer-based, meaning that you use integer indices to access data.\n",
    "                  You use integer positions to select data regardless of the actual row and column labels.\n",
    "                  It does not include the end value when slicing ranges (similar to Python slicing behavior).\n",
    " \n"
   ]
  },
  {
   "cell_type": "code",
   "execution_count": 22,
   "id": "e9535be8-45fb-474b-ad25-91486eb40e9f",
   "metadata": {},
   "outputs": [],
   "source": [
    "# Q9. value_count() :  If we want to see acutal values then we use value_counts() . \n",
    "\n"
   ]
  },
  {
   "cell_type": "code",
   "execution_count": 25,
   "id": "1357e8cc-82c8-4d41-b131-d91e67bff8a3",
   "metadata": {},
   "outputs": [
    {
     "name": "stdout",
     "output_type": "stream",
     "text": [
      "   X  B\n",
      "0  1  4\n",
      "1  2  5\n",
      "2  3  6\n"
     ]
    }
   ],
   "source": [
    "# Q11. To rename a column in a Pandas DataFrame, you can use the rename() method. \n",
    "import pandas as pd\n",
    "\n",
    "# Create a sample DataFrame\n",
    "data = {'A': [1, 2, 3], 'B': [4, 5, 6]}\n",
    "df = pd.DataFrame(data)\n",
    "\n",
    "# Rename column 'A' to 'X'\n",
    "df.rename(columns={'A': 'X'},inplace=True)\n",
    "\n",
    "# Now 'A' is renamed to 'X'\n",
    "print(df)\n"
   ]
  },
  {
   "cell_type": "markdown",
   "id": "928eecd5-f2b6-485b-9485-46167dc3e529",
   "metadata": {},
   "source": [
    "# Q14. Discrete Data:\n",
    "\n",
    ".Discrete data consists of separate, distinct values with no meaningful order or continuous sequence between them.\n",
    "\n",
    ".Examples include integers, categories, or any data that can be counted or enumerated.\n",
    "\n",
    ".In Pandas, discrete data is typically represented using integer or categorical data types.\n"
   ]
  },
  {
   "cell_type": "markdown",
   "id": "92ca146c-bcae-4a33-a067-161bb9010515",
   "metadata": {},
   "source": [
    "# Continuous Data:\n",
    "\n",
    "Continuous data represents measurements or values that can take on any value within a certain range.\n",
    "\n",
    "There is a continuous sequence of possible values between any two points.\n",
    "\n",
    "Examples include real numbers, measurements like height, weight, temperature, etc.\n",
    "\n",
    "In Pandas, continuous data is often represented using floating-point data types."
   ]
  },
  {
   "cell_type": "markdown",
   "id": "ad3417e2-47b7-4ed4-bd71-ca90ae0cf9c5",
   "metadata": {},
   "source": [
    "# Q15 When you have numerical data and categorical data in Pandas,you can use various types of charts to visualize the relationships between them"
   ]
  },
  {
   "cell_type": "markdown",
   "id": "01db88f3-5229-483b-af87-d4cd18ba45f3",
   "metadata": {},
   "source": [
    "# Bar Chart:\n",
    "\n",
    "Useful for comparing numerical values across different categories."
   ]
  },
  {
   "cell_type": "markdown",
   "id": "8df13c93-964a-4be1-9909-0ba5aa623f6a",
   "metadata": {},
   "source": [
    "# Box Plot:\n",
    "\n",
    "Shows the median, quartiles, and possible outliers.\n"
   ]
  },
  {
   "cell_type": "markdown",
   "id": "3d433c52-cbc2-4d64-a4cb-9b22f5f83804",
   "metadata": {},
   "source": [
    "# Scatter Plot:\n",
    "\n",
    "Useful for visualizing the relationship between two numerical variables across different categories.\n",
    "\n",
    "\n",
    "# Histogram:\n",
    "\n",
    "Suitable for visualizing the distribution of numerical data within different categories.\n"
   ]
  },
  {
   "cell_type": "code",
   "execution_count": 26,
   "id": "33412c11-9e4b-4292-8031-97ef1e67b9e6",
   "metadata": {},
   "outputs": [],
   "source": [
    "# Q10. \n",
    "# Merge==> The merge() function is used to combine two DataFrames based on one or more keys.\n",
    "#           It allows you to perform inner, outer, left, and right joins.\n",
    "#           It's typically used when you want to combine DataFrames based on common columns.\n",
    "\n",
    "\n",
    "# Concat==> The concat() function is used to concatenate two or more DataFrames along rows or columns.\n",
    "#           It does a simple concatenation, stacking DataFrames either vertically (along rows) or horizontally (along columns).\n",
    "#           It's typically used when you want to combine DataFrames with the same columns or indexes.\n"
   ]
  },
  {
   "cell_type": "code",
   "execution_count": 27,
   "id": "02984931-90cc-4cf0-8a3e-a89e27275a92",
   "metadata": {},
   "outputs": [
    {
     "name": "stdout",
     "output_type": "stream",
     "text": [
      "Row-wise sum:\n",
      "0    12\n",
      "1    15\n",
      "2    18\n",
      "dtype: int64\n"
     ]
    }
   ],
   "source": [
    "# Q10.(2nd). \n",
    "# Row-wise addition: To add row-wise data, you want to sum across columns. So, you set axis=1.\n",
    "import pandas as pd\n",
    "\n",
    "# Create a DataFrame\n",
    "df = pd.DataFrame({'A': [1, 2, 3],\n",
    "                   'B': [4, 5, 6],\n",
    "                   'C': [7, 8, 9]})\n",
    "\n",
    "# Add row-wise data\n",
    "row_sum = df.sum(axis=1)\n",
    "print(\"Row-wise sum:\")\n",
    "print(row_sum)\n",
    "\n",
    "                     "
   ]
  },
  {
   "cell_type": "code",
   "execution_count": 28,
   "id": "7a93e1c5-6c46-460f-9081-baea525fdc71",
   "metadata": {},
   "outputs": [
    {
     "name": "stdout",
     "output_type": "stream",
     "text": [
      "Column-wise sum:\n",
      "A     6\n",
      "B    15\n",
      "C    24\n",
      "dtype: int64\n"
     ]
    }
   ],
   "source": [
    "# Q10(2nd).\n",
    "# Column-wise addition: To add column-wise data, you want to sum across rows. So, you set axis=0.\n",
    "\n",
    "import pandas as pd\n",
    "\n",
    "# Create a DataFrame\n",
    "df = pd.DataFrame({'A': [1, 2, 3],\n",
    "                   'B': [4, 5, 6],\n",
    "                   'C': [7, 8, 9]})\n",
    "\n",
    "# Add column-wise data\n",
    "column_sum = df.sum(axis=0)\n",
    "print(\"Column-wise sum:\")\n",
    "print(column_sum)\n",
    "\n"
   ]
  },
  {
   "cell_type": "markdown",
   "id": "448ca6e9-bbb9-4b54-ad43-869cbdf0a917",
   "metadata": {},
   "source": [
    "# Q13\n",
    "# Univariate Analysis:\n",
    "1.Univariate analysis focuses on analyzing a single variable at a time.\n",
    "2.It helps in understanding the distribution, central tendency, dispersion, and shape of the variable.\n",
    "=>Example: Analyzing the distribution of exam scores of students in a class using a histogram.\n",
    "\n",
    "# Bivariate Analysis:\n",
    "1.Bivariate analysis involves the analysis of two variables simultaneously to determine if there is a relationship between them.\n",
    "2.It helps in understanding how one variable changes in relation to another.\n",
    "=>Example: Studying the relationship between the amount of rainfall and crop yield to determine if there's a correlation between them.\n",
    "\n",
    "# Multivariate Analysis:\n",
    "1.Multivariate analysis involves the analysis of three or more variables simultaneously.\n",
    "2.It helps in understanding complex relationships between multiple variables and identifying patterns or trends.\n",
    "=>Example: Analyzing the factors influencing the sales performance of a retail store, considering variables such as advertising expenditure, location, product pricing, and customer demographics.\n",
    "\n"
   ]
  },
  {
   "cell_type": "code",
   "execution_count": 31,
   "id": "5a9dd7ac-eb1b-403a-a08c-9bc7ffd22498",
   "metadata": {},
   "outputs": [
    {
     "name": "stdout",
     "output_type": "stream",
     "text": [
      "Updated DataFrame:\n",
      "   Employee ID Employee Name  Department  Working Hours  Salary\n",
      "0            1         vajay       Sales              8   55000\n",
      "1            2          yash          IT              7   65000\n",
      "2            3          abhi  Operations              7   45000\n",
      "3            4        kishan          IT              8   55000\n",
      "4            5        lokesh       Sales              8   52000\n"
     ]
    }
   ],
   "source": [
    "# Q12.\n",
    "import pandas as pd\n",
    "\n",
    "# Create the DataFrame\n",
    "data = {'Employee ID': [1, 2, 3, 4, 5],\n",
    "        'Employee Name': ['vajay', 'yash', 'abhi', 'kishan', 'lokesh'],\n",
    "        'Department': ['Sales', 'IT', 'Operations', 'IT', 'Sales'],\n",
    "        'Working Hours': [8, 7, 8, 9, 8],\n",
    "        'Salary': [50000, 60000, 45000, 55000, 52000]}\n",
    "df = pd.DataFrame(data)\n",
    "\n",
    "# Update salaries for two employees\n",
    "df.loc[df['Employee ID'].isin([1, 2]), 'Salary'] += 5000\n",
    "\n",
    "# Update working hours for two employees\n",
    "df.loc[df['Employee ID'].isin([3, 4]), 'Working Hours'] -= 1\n",
    "\n",
    "print(\"Updated DataFrame:\")\n",
    "print(df)\n"
   ]
  },
  {
   "cell_type": "code",
   "execution_count": 32,
   "id": "63942668-6358-45e8-965a-493fcb1f8301",
   "metadata": {},
   "outputs": [
    {
     "name": "stdout",
     "output_type": "stream",
     "text": [
      "\n",
      "DataFrame with new department columns:\n",
      "   Employee ID Employee Name  Department  Working Hours  Salary  \\\n",
      "0            1         vajay       Sales              8   55000   \n",
      "1            2          yash          IT              7   65000   \n",
      "2            3          abhi  Operations              7   45000   \n",
      "3            4        kishan          IT              8   55000   \n",
      "4            5        lokesh       Sales              8   52000   \n",
      "\n",
      "   Sales Department  IT Department  Operations Department  \n",
      "0                 1              0                      0  \n",
      "1                 0              1                      0  \n",
      "2                 0              0                      1  \n",
      "3                 0              1                      0  \n",
      "4                 1              0                      0  \n"
     ]
    }
   ],
   "source": [
    "# Create new columns for departments\n",
    "df['Sales Department'] = df['Department'].apply(lambda x: 1 if x == 'Sales' else 0)\n",
    "df['IT Department'] = df['Department'].apply(lambda x: 1 if x == 'IT' else 0)\n",
    "df['Operations Department'] = df['Department'].apply(lambda x: 1 if x == 'Operations' else 0)\n",
    "\n",
    "print(\"\\nDataFrame with new department columns:\")\n",
    "print(df)\n"
   ]
  },
  {
   "cell_type": "code",
   "execution_count": null,
   "id": "f39a07fb-0400-4860-8d67-4b6f63750257",
   "metadata": {},
   "outputs": [],
   "source": []
  }
 ],
 "metadata": {
  "kernelspec": {
   "display_name": "Python 3 (ipykernel)",
   "language": "python",
   "name": "python3"
  },
  "language_info": {
   "codemirror_mode": {
    "name": "ipython",
    "version": 3
   },
   "file_extension": ".py",
   "mimetype": "text/x-python",
   "name": "python",
   "nbconvert_exporter": "python",
   "pygments_lexer": "ipython3",
   "version": "3.11.7"
  }
 },
 "nbformat": 4,
 "nbformat_minor": 5
}
